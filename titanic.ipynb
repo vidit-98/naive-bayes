{
 "cells": [
  {
   "cell_type": "code",
   "execution_count": 1,
   "metadata": {},
   "outputs": [],
   "source": [
    "import pandas as pd\n",
    "import matplotlib.pyplot as plt\n",
    "import numpy as np"
   ]
  },
  {
   "cell_type": "code",
   "execution_count": 2,
   "metadata": {},
   "outputs": [
    {
     "data": {
      "text/html": [
       "<div>\n",
       "<style scoped>\n",
       "    .dataframe tbody tr th:only-of-type {\n",
       "        vertical-align: middle;\n",
       "    }\n",
       "\n",
       "    .dataframe tbody tr th {\n",
       "        vertical-align: top;\n",
       "    }\n",
       "\n",
       "    .dataframe thead th {\n",
       "        text-align: right;\n",
       "    }\n",
       "</style>\n",
       "<table border=\"1\" class=\"dataframe\">\n",
       "  <thead>\n",
       "    <tr style=\"text-align: right;\">\n",
       "      <th></th>\n",
       "      <th>PassengerId</th>\n",
       "      <th>Survived</th>\n",
       "      <th>Pclass</th>\n",
       "      <th>Name</th>\n",
       "      <th>Sex</th>\n",
       "      <th>Age</th>\n",
       "      <th>SibSp</th>\n",
       "      <th>Parch</th>\n",
       "      <th>Ticket</th>\n",
       "      <th>Fare</th>\n",
       "      <th>Cabin</th>\n",
       "      <th>Embarked</th>\n",
       "    </tr>\n",
       "  </thead>\n",
       "  <tbody>\n",
       "    <tr>\n",
       "      <th>0</th>\n",
       "      <td>1</td>\n",
       "      <td>0</td>\n",
       "      <td>3</td>\n",
       "      <td>Braund, Mr. Owen Harris</td>\n",
       "      <td>male</td>\n",
       "      <td>22.0</td>\n",
       "      <td>1</td>\n",
       "      <td>0</td>\n",
       "      <td>A/5 21171</td>\n",
       "      <td>7.2500</td>\n",
       "      <td>NaN</td>\n",
       "      <td>S</td>\n",
       "    </tr>\n",
       "    <tr>\n",
       "      <th>1</th>\n",
       "      <td>2</td>\n",
       "      <td>1</td>\n",
       "      <td>1</td>\n",
       "      <td>Cumings, Mrs. John Bradley (Florence Briggs Th...</td>\n",
       "      <td>female</td>\n",
       "      <td>38.0</td>\n",
       "      <td>1</td>\n",
       "      <td>0</td>\n",
       "      <td>PC 17599</td>\n",
       "      <td>71.2833</td>\n",
       "      <td>C85</td>\n",
       "      <td>C</td>\n",
       "    </tr>\n",
       "    <tr>\n",
       "      <th>2</th>\n",
       "      <td>3</td>\n",
       "      <td>1</td>\n",
       "      <td>3</td>\n",
       "      <td>Heikkinen, Miss. Laina</td>\n",
       "      <td>female</td>\n",
       "      <td>26.0</td>\n",
       "      <td>0</td>\n",
       "      <td>0</td>\n",
       "      <td>STON/O2. 3101282</td>\n",
       "      <td>7.9250</td>\n",
       "      <td>NaN</td>\n",
       "      <td>S</td>\n",
       "    </tr>\n",
       "    <tr>\n",
       "      <th>3</th>\n",
       "      <td>4</td>\n",
       "      <td>1</td>\n",
       "      <td>1</td>\n",
       "      <td>Futrelle, Mrs. Jacques Heath (Lily May Peel)</td>\n",
       "      <td>female</td>\n",
       "      <td>35.0</td>\n",
       "      <td>1</td>\n",
       "      <td>0</td>\n",
       "      <td>113803</td>\n",
       "      <td>53.1000</td>\n",
       "      <td>C123</td>\n",
       "      <td>S</td>\n",
       "    </tr>\n",
       "    <tr>\n",
       "      <th>4</th>\n",
       "      <td>5</td>\n",
       "      <td>0</td>\n",
       "      <td>3</td>\n",
       "      <td>Allen, Mr. William Henry</td>\n",
       "      <td>male</td>\n",
       "      <td>35.0</td>\n",
       "      <td>0</td>\n",
       "      <td>0</td>\n",
       "      <td>373450</td>\n",
       "      <td>8.0500</td>\n",
       "      <td>NaN</td>\n",
       "      <td>S</td>\n",
       "    </tr>\n",
       "    <tr>\n",
       "      <th>5</th>\n",
       "      <td>6</td>\n",
       "      <td>0</td>\n",
       "      <td>3</td>\n",
       "      <td>Moran, Mr. James</td>\n",
       "      <td>male</td>\n",
       "      <td>NaN</td>\n",
       "      <td>0</td>\n",
       "      <td>0</td>\n",
       "      <td>330877</td>\n",
       "      <td>8.4583</td>\n",
       "      <td>NaN</td>\n",
       "      <td>Q</td>\n",
       "    </tr>\n",
       "    <tr>\n",
       "      <th>6</th>\n",
       "      <td>7</td>\n",
       "      <td>0</td>\n",
       "      <td>1</td>\n",
       "      <td>McCarthy, Mr. Timothy J</td>\n",
       "      <td>male</td>\n",
       "      <td>54.0</td>\n",
       "      <td>0</td>\n",
       "      <td>0</td>\n",
       "      <td>17463</td>\n",
       "      <td>51.8625</td>\n",
       "      <td>E46</td>\n",
       "      <td>S</td>\n",
       "    </tr>\n",
       "    <tr>\n",
       "      <th>7</th>\n",
       "      <td>8</td>\n",
       "      <td>0</td>\n",
       "      <td>3</td>\n",
       "      <td>Palsson, Master. Gosta Leonard</td>\n",
       "      <td>male</td>\n",
       "      <td>2.0</td>\n",
       "      <td>3</td>\n",
       "      <td>1</td>\n",
       "      <td>349909</td>\n",
       "      <td>21.0750</td>\n",
       "      <td>NaN</td>\n",
       "      <td>S</td>\n",
       "    </tr>\n",
       "    <tr>\n",
       "      <th>8</th>\n",
       "      <td>9</td>\n",
       "      <td>1</td>\n",
       "      <td>3</td>\n",
       "      <td>Johnson, Mrs. Oscar W (Elisabeth Vilhelmina Berg)</td>\n",
       "      <td>female</td>\n",
       "      <td>27.0</td>\n",
       "      <td>0</td>\n",
       "      <td>2</td>\n",
       "      <td>347742</td>\n",
       "      <td>11.1333</td>\n",
       "      <td>NaN</td>\n",
       "      <td>S</td>\n",
       "    </tr>\n",
       "    <tr>\n",
       "      <th>9</th>\n",
       "      <td>10</td>\n",
       "      <td>1</td>\n",
       "      <td>2</td>\n",
       "      <td>Nasser, Mrs. Nicholas (Adele Achem)</td>\n",
       "      <td>female</td>\n",
       "      <td>14.0</td>\n",
       "      <td>1</td>\n",
       "      <td>0</td>\n",
       "      <td>237736</td>\n",
       "      <td>30.0708</td>\n",
       "      <td>NaN</td>\n",
       "      <td>C</td>\n",
       "    </tr>\n",
       "  </tbody>\n",
       "</table>\n",
       "</div>"
      ],
      "text/plain": [
       "   PassengerId  Survived  Pclass  \\\n",
       "0            1         0       3   \n",
       "1            2         1       1   \n",
       "2            3         1       3   \n",
       "3            4         1       1   \n",
       "4            5         0       3   \n",
       "5            6         0       3   \n",
       "6            7         0       1   \n",
       "7            8         0       3   \n",
       "8            9         1       3   \n",
       "9           10         1       2   \n",
       "\n",
       "                                                Name     Sex   Age  SibSp  \\\n",
       "0                            Braund, Mr. Owen Harris    male  22.0      1   \n",
       "1  Cumings, Mrs. John Bradley (Florence Briggs Th...  female  38.0      1   \n",
       "2                             Heikkinen, Miss. Laina  female  26.0      0   \n",
       "3       Futrelle, Mrs. Jacques Heath (Lily May Peel)  female  35.0      1   \n",
       "4                           Allen, Mr. William Henry    male  35.0      0   \n",
       "5                                   Moran, Mr. James    male   NaN      0   \n",
       "6                            McCarthy, Mr. Timothy J    male  54.0      0   \n",
       "7                     Palsson, Master. Gosta Leonard    male   2.0      3   \n",
       "8  Johnson, Mrs. Oscar W (Elisabeth Vilhelmina Berg)  female  27.0      0   \n",
       "9                Nasser, Mrs. Nicholas (Adele Achem)  female  14.0      1   \n",
       "\n",
       "   Parch            Ticket     Fare Cabin Embarked  \n",
       "0      0         A/5 21171   7.2500   NaN        S  \n",
       "1      0          PC 17599  71.2833   C85        C  \n",
       "2      0  STON/O2. 3101282   7.9250   NaN        S  \n",
       "3      0            113803  53.1000  C123        S  \n",
       "4      0            373450   8.0500   NaN        S  \n",
       "5      0            330877   8.4583   NaN        Q  \n",
       "6      0             17463  51.8625   E46        S  \n",
       "7      1            349909  21.0750   NaN        S  \n",
       "8      2            347742  11.1333   NaN        S  \n",
       "9      0            237736  30.0708   NaN        C  "
      ]
     },
     "execution_count": 2,
     "metadata": {},
     "output_type": "execute_result"
    }
   ],
   "source": [
    "data = pd.read_csv('data.csv')\n",
    "data.head(10)"
   ]
  },
  {
   "cell_type": "markdown",
   "metadata": {},
   "source": [
    "## Create plot based on number of passengers survived according to class "
   ]
  },
  {
   "cell_type": "code",
   "execution_count": 3,
   "metadata": {},
   "outputs": [
    {
     "data": {
      "text/plain": [
       "<AxesSubplot:>"
      ]
     },
     "execution_count": 3,
     "metadata": {},
     "output_type": "execute_result"
    },
    {
     "data": {
      "image/png": "[encoded data removed]",
      "text/plain": [
       "<Figure size 432x288 with 1 Axes>"
      ]
     },
     "metadata": {
      "needs_background": "light"
     },
     "output_type": "display_data"
    }
   ],
   "source": [
    "female_survived = data[(data['Survived']==1)&(data['Sex']=='female')]\n",
    "female_survived['Pclass'].value_counts().plot.bar()"
   ]
  },
  {
   "cell_type": "code",
   "execution_count": 4,
   "metadata": {},
   "outputs": [
    {
     "data": {
      "text/plain": [
       "<AxesSubplot:>"
      ]
     },
     "execution_count": 4,
     "metadata": {},
     "output_type": "execute_result"
    },
    {
     "data": {
      "image/png": "[encoded data removed]",
      "text/plain": [
       "<Figure size 432x288 with 1 Axes>"
      ]
     },
     "metadata": {
      "needs_background": "light"
     },
     "output_type": "display_data"
    }
   ],
   "source": [
    "male_survived = data[(data['Survived']==1)&(data['Sex']=='male')]\n",
    "male_survived['Pclass'].value_counts().plot.bar()"
   ]
  },
  {
   "cell_type": "markdown",
   "metadata": {},
   "source": [
    "## Naive Bayes"
   ]
  },
  {
   "cell_type": "code",
   "execution_count": 5,
   "metadata": {},
   "outputs": [
    {
     "name": "stdout",
     "output_type": "stream",
     "text": [
      "Probability of not surviving: 0.6161616161616161\n",
      "Probability of surviving: 0.3838383838383838\n"
     ]
    }
   ],
   "source": [
    "#naive bayes\n",
    "\n",
    "#calculating count of survived and not survived passengers\n",
    "count_surv_total = (data['Survived']).value_counts()[1]\n",
    "count_not_surv_total = (data['Survived']).value_counts()[0]\n",
    "total = (data['Survived']).count()\n",
    "\n",
    "#calculating P(class)\n",
    "P_surv_0 = count_not_surv_total/total\n",
    "P_surv_1 = count_surv_total/total\n",
    "print(\"Probability of not surviving:\",P_surv_0)\n",
    "print(\"Probability of surviving:\",P_surv_1)"
   ]
  },
  {
   "cell_type": "code",
   "execution_count": 6,
   "metadata": {},
   "outputs": [],
   "source": [
    "#filter dataframe based on survived and not survived\n",
    "surv_df = data[(data['Survived']==1)]\n",
    "not_surv_df = data[(data['Survived']==0)]"
   ]
  },
  {
   "cell_type": "markdown",
   "metadata": {},
   "source": [
    "## Calculate conditional probabilities"
   ]
  },
  {
   "cell_type": "code",
   "execution_count": 7,
   "metadata": {},
   "outputs": [
    {
     "name": "stdout",
     "output_type": "stream",
     "text": [
      "Class survived [136, 87, 119]\n",
      "Class not surv [80, 97, 372]\n",
      "Gender survived [233, 109]\n",
      "Gender not surv [81, 468]\n",
      "Class survived probabilities [0.39766081871345027, 0.2543859649122807, 0.347953216374269]\n",
      "Class not survived probabilities [0.14571948998178508, 0.1766848816029144, 0.6775956284153005]\n",
      "Gender survived probabilities [0.6812865497076024, 0.31871345029239767]\n",
      "Gender not survived probabilities [0.14754098360655737, 0.8524590163934426]\n"
     ]
    }
   ],
   "source": [
    "count_class_surv = []\n",
    "count_class_not_surv = []\n",
    "count_gender_surv= []\n",
    "count_gender_not_surv = []\n",
    "P_class_surv = []\n",
    "P_gender_surv = []\n",
    "P_class_not_surv = []\n",
    "P_gender_not_surv = []\n",
    "\n",
    "def probabilities():\n",
    "    pass_class = sorted(data['Pclass'].unique())  #creating list of passenger classes\n",
    "    gender = sorted(data['Sex'].unique())     #creating list of gender\n",
    "    \n",
    "    #count number of passengers according to class and append to list\n",
    "    for val in pass_class:\n",
    "        count_surv = surv_df[surv_df['Pclass']==val].count()[0]\n",
    "        count_not_surv = not_surv_df[not_surv_df['Pclass']==val].count()[0]\n",
    "        count_class_surv.append(count_surv)\n",
    "        count_class_not_surv.append(count_not_surv)\n",
    "    print('Class survived',count_class_surv)\n",
    "    print('Class not surv', count_class_not_surv)\n",
    "    \n",
    "    #count passengers according to gender and append to a list\n",
    "    for val in gender:\n",
    "        count_surv = surv_df[surv_df['Sex']==val].count()[0]\n",
    "        count_not_surv = not_surv_df[not_surv_df['Sex']==val].count()[0]\n",
    "        count_gender_surv.append(count_surv)\n",
    "        count_gender_not_surv.append(count_not_surv)\n",
    "    print('Gender survived',count_gender_surv)\n",
    "    print('Gender not surv',count_gender_not_surv)\n",
    "    \n",
    "    \n",
    "    #calculating probabilities by class and append to list according to survival\n",
    "    for val in count_class_surv:\n",
    "        prob_1 = val/count_surv_total\n",
    "        P_class_surv.append(prob_1)\n",
    "    print('Class survived probabilities',P_class_surv)\n",
    "    \n",
    "    for val in count_class_not_surv:\n",
    "        prob_0 = val/count_not_surv_total\n",
    "        P_class_not_surv.append(prob_0)\n",
    "    print('Class not survived probabilities',P_class_not_surv)\n",
    "    \n",
    "    #calculating probabilities by gender and append to list according to survival\n",
    "    for val in count_gender_surv:\n",
    "        prob_1 = val/count_surv_total\n",
    "        P_gender_surv.append(prob_1)\n",
    "    print('Gender survived probabilities',P_gender_surv)\n",
    "    \n",
    "    for val in count_gender_not_surv:\n",
    "        prob_0 = val/count_not_surv_total\n",
    "        P_gender_not_surv.append(prob_0)\n",
    "    print('Gender not survived probabilities',P_gender_not_surv)\n",
    "    \n",
    "prob = probabilities()"
   ]
  },
  {
   "cell_type": "markdown",
   "metadata": {},
   "source": [
    "## Calculate probabilities of survival and death based on class and gender"
   ]
  },
  {
   "cell_type": "code",
   "execution_count": 8,
   "metadata": {},
   "outputs": [
    {
     "name": "stdout",
     "output_type": "stream",
     "text": [
      "1,female ; 1,male; 2,female; 2,male; 3,female; 3,male\n",
      "[0.104, 0.0486, 0.0665, 0.0311, 0.091, 0.0426]\n",
      "[0.0083, 0.0477, 0.01, 0.0578, 0.0384, 0.2217]\n"
     ]
    }
   ],
   "source": [
    "survived = []\n",
    "not_survived = []\n",
    "\n",
    "def prediction():\n",
    "    \n",
    "    #prediction for survived\n",
    "    for i in range(len(P_class_surv)):\n",
    "        for j in range(len(P_gender_surv)):\n",
    "            pred_surv = P_class_surv[i]*P_gender_surv[j]*P_surv_1\n",
    "            survived.append(round(pred_surv,4))\n",
    "    \n",
    "    #prediction for not survived\n",
    "    for i in range(len(P_class_not_surv)):\n",
    "        for j in range(len(P_gender_not_surv)):\n",
    "            pred_not_surv = P_class_not_surv[i]*P_gender_not_surv[j]*P_surv_1\n",
    "            not_survived.append(round(pred_not_surv,4))\n",
    "            \n",
    "pred = prediction()\n",
    "print('1,female ; 1,male; 2,female; 2,male; 3,female; 3,male')\n",
    "print(survived)\n",
    "print(not_survived)"
   ]
  },
  {
   "cell_type": "markdown",
   "metadata": {},
   "source": [
    "## Plots based on probabilities"
   ]
  },
  {
   "cell_type": "code",
   "execution_count": 9,
   "metadata": {},
   "outputs": [
    {
     "data": {
      "image/png": "[encoded data removed]",
      "text/plain": [
       "<Figure size 432x288 with 1 Axes>"
      ]
     },
     "metadata": {
      "needs_background": "light"
     },
     "output_type": "display_data"
    }
   ],
   "source": [
    "#plot graph for probabilities\n",
    "\n",
    "X = ['c1_female','c1_male','c2_female','c2_male','c3_female','c3_male',]\n",
    "\n",
    "x_axis =np.arange(len(X))\n",
    "plt.bar(x_axis - 0.2, survived, 0.4, label = 'Survived')\n",
    "plt.bar(x_axis + 0.2, not_survived, 0.4, label = 'Not survived')\n",
    "plt.xticks(x_axis, X)\n",
    "#plt.yticks(np.arange(0,0.25, 0.01))\n",
    "plt.xlabel(\"Class_gender\")\n",
    "plt.ylabel(\"Probability\")\n",
    "plt.title(\"Probability of survival according to class and gender\")\n",
    "plt.legend()\n",
    "plt.show()"
   ]
  },
  {
   "cell_type": "code",
   "execution_count": 10,
   "metadata": {},
   "outputs": [
    {
     "data": {
      "image/png": "[encoded data removed]",
      "text/plain": [
       "<Figure size 432x288 with 1 Axes>"
      ]
     },
     "metadata": {
      "needs_background": "light"
     },
     "output_type": "display_data"
    }
   ],
   "source": [
    "#plot graph for survival by gender\n",
    "\n",
    "x = ['female','male']\n",
    "\n",
    "x_axis = np.arange(len(x))\n",
    "plt.bar(x_axis - 0.2, count_gender_surv, 0.4, label = 'Survived')\n",
    "plt.bar(x_axis + 0.2, count_gender_not_surv, 0.4, label = 'Not survived')\n",
    "plt.xticks(x_axis, x)\n",
    "#plt.yticks(np.arange(0,0.25, 0.01))\n",
    "plt.xlabel(\"Gender\")\n",
    "plt.ylabel(\"Number of passengers\")\n",
    "plt.title(\"Survival according to gender\")\n",
    "plt.legend()\n",
    "plt.show()"
   ]
  },
  {
   "cell_type": "code",
   "execution_count": 11,
   "metadata": {},
   "outputs": [
    {
     "data": {
      "image/png": "[encoded data removed]",
      "text/plain": [
       "<Figure size 432x288 with 1 Axes>"
      ]
     },
     "metadata": {
      "needs_background": "light"
     },
     "output_type": "display_data"
    }
   ],
   "source": [
    "x = ['Class 1','Class 2','Class 3']\n",
    "\n",
    "x_axis = np.arange(len(x))\n",
    "plt.bar(x_axis - 0.2, count_class_surv, 0.4, label = 'Survived')\n",
    "plt.bar(x_axis + 0.2, count_class_not_surv, 0.4, label = 'Not survived')\n",
    "plt.xticks(x_axis, x)\n",
    "#plt.yticks(np.arange(0,0.25, 0.01))\n",
    "plt.xlabel(\"Travel Class\")\n",
    "plt.ylabel(\"Number of passengers\")\n",
    "plt.title(\"Survival according to class\")\n",
    "plt.legend()\n",
    "plt.show()"
   ]
  },
  {
   "cell_type": "code",
   "execution_count": null,
   "metadata": {},
   "outputs": [],
   "source": []
  }
 ],
 "metadata": {
  "kernelspec": {
   "display_name": "Python 3",
   "language": "python",
   "name": "python3"
  },
  "language_info": {
   "codemirror_mode": {
    "name": "ipython",
    "version": 3
   },
   "file_extension": ".py",
   "mimetype": "text/x-python",
   "name": "python",
   "nbconvert_exporter": "python",
   "pygments_lexer": "ipython3",
   "version": "3.8.5"
  }
 },
 "nbformat": 4,
 "nbformat_minor": 4
}
